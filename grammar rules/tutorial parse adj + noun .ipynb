{
 "cells": [
  {
   "cell_type": "markdown",
   "metadata": {},
   "source": [
    "Парсить словосочетания и приводить их к общей нормальной форме невозможно какой-то конкретной функцией + на просторах рунета я ничего подобного не нашла для русского языка. Поэтому я написала простой и логичный скрипт, который помогает выйти из этой ситуации:"
   ]
  },
  {
   "cell_type": "markdown",
   "metadata": {},
   "source": [
    "Тут нам поможет библиотека pymorphy"
   ]
  },
  {
   "cell_type": "code",
   "execution_count": 1,
   "metadata": {},
   "outputs": [],
   "source": [
    "import pymorphy2\n",
    "morph = pymorphy2.MorphAnalyzer()"
   ]
  },
  {
   "cell_type": "markdown",
   "metadata": {},
   "source": [
    "Сейчас нам достаточно знать 3 вещи, чтобы все правильно реализовать: "
   ]
  },
  {
   "cell_type": "code",
   "execution_count": 2,
   "metadata": {},
   "outputs": [
    {
     "name": "stdout",
     "output_type": "stream",
     "text": [
      "Parse(word='японское', tag=OpencorporaTag('ADJF neut,sing,nomn'), normal_form='японский', score=0.5, methods_stack=((<DictionaryAnalyzer>, 'японское', 16, 14),))\n"
     ]
    }
   ],
   "source": [
    "# так мы делаем морфологический анализ слова\n",
    "p = morph.parse('японское')[0]\n",
    "print(p) "
   ]
  },
  {
   "cell_type": "code",
   "execution_count": 3,
   "metadata": {},
   "outputs": [
    {
     "data": {
      "text/plain": [
       "'японский'"
      ]
     },
     "execution_count": 3,
     "metadata": {},
     "output_type": "execute_result"
    }
   ],
   "source": [
    "# приводим его к нормальной форме \n",
    "p.normal_form"
   ]
  },
  {
   "cell_type": "code",
   "execution_count": null,
   "metadata": {},
   "outputs": [],
   "source": [
    "# и таким образом можно изменять слово в определенную \"начальную\" форму \n",
    "morph.parse('Красивых')[0].inflect({'plur','nomn'}).word"
   ]
  },
  {
   "cell_type": "markdown",
   "metadata": {},
   "source": [
    "В нашем случае достаточно знать эти расшифровки "
   ]
  },
  {
   "cell_type": "markdown",
   "metadata": {},
   "source": [
    "\"sing\" - ед.\n",
    "\n",
    "\"plur\" - множ. \n",
    "\n",
    "\"femn\" - ж.р.\n",
    "\n",
    "\"masc\" - м.р.\n",
    "\n",
    "\"neut\" - с.р. \n",
    "\n",
    "+в конце всегда добавлять 'nomn', ибо это приводит в начальную форму слово (тип И.п.)"
   ]
  },
  {
   "cell_type": "markdown",
   "metadata": {},
   "source": [
    "А вот сам код, где мы смотрим на число и род сущ, которое предварительно привели к начальной форме и на оснвое этих данных меням прилагательное:"
   ]
  },
  {
   "cell_type": "code",
   "execution_count": 6,
   "metadata": {},
   "outputs": [
    {
     "name": "stdout",
     "output_type": "stream",
     "text": [
      "куриный бульон\n"
     ]
    }
   ],
   "source": [
    "pr = 'куриным бульоном'\n",
    "pr = pr.split()\n",
    "# дано словосочетание \"прилаг + сущ\" = pr\n",
    "noun = morph.parse(pr[1])[0]\n",
    "noun_norm =   morph.parse(noun.normal_form)[0] \n",
    "adj = morph.parse(pr[0])[0]\n",
    "# print(noun)\n",
    "# print(noun_norm)\n",
    "# print(adj)\n",
    "normalaze_phrase = ' '.join(pr)\n",
    "if 'ед' in morph.lat2cyr(noun_norm.tag): #если сущ в ед \n",
    "    if 'жр' in morph.lat2cyr(noun_norm.tag): #если сущ женского рода \n",
    "        normalaze_phrase = ' '.join([adj.inflect({'sing',\"femn\",'nomn'}).word,noun_norm.word])\n",
    "    elif 'мр' in morph.lat2cyr(noun_norm.tag):\n",
    "        normalaze_phrase = ' '.join([adj.inflect({'sing',\"masc\",'nomn'}).word,noun_norm.word])\n",
    "    elif 'ср' in morph.lat2cyr(noun_norm.tag):\n",
    "        normalaze_phrase = ' '.join([adj.inflect({'sing',\"neut\",'nomn'}).word,noun_norm.word])\n",
    "else:\n",
    "    normalaze_phrase = ' '.join([adj.inflect({'plur','nomn'}).word,noun_norm.word])\n",
    "\n",
    "print(normalaze_phrase)"
   ]
  },
  {
   "cell_type": "markdown",
   "metadata": {},
   "source": [
    "P.s. morph.lat2cyr - позволяет просто вводить на русском морфемы слова "
   ]
  },
  {
   "cell_type": "code",
   "execution_count": null,
   "metadata": {},
   "outputs": [],
   "source": []
  }
 ],
 "metadata": {
  "kernelspec": {
   "display_name": "Python 3",
   "language": "python",
   "name": "python3"
  },
  "language_info": {
   "codemirror_mode": {
    "name": "ipython",
    "version": 3
   },
   "file_extension": ".py",
   "mimetype": "text/x-python",
   "name": "python",
   "nbconvert_exporter": "python",
   "pygments_lexer": "ipython3",
   "version": "3.7.6"
  }
 },
 "nbformat": 4,
 "nbformat_minor": 4
}
